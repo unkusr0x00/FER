{
 "cells": [
  {
   "cell_type": "code",
   "execution_count": 1,
   "id": "initial_id",
   "metadata": {
    "collapsed": true,
    "ExecuteTime": {
     "end_time": "2024-01-24T10:51:07.514902Z",
     "start_time": "2024-01-24T10:50:24.020261Z"
    }
   },
   "outputs": [
    {
     "name": "stderr",
     "output_type": "stream",
     "text": [
      "2024-01-24 11:50:48.147743: I tensorflow/core/platform/cpu_feature_guard.cc:182] This TensorFlow binary is optimized to use available CPU instructions in performance-critical operations.\n",
      "To enable the following instructions: AVX2 FMA, in other operations, rebuild TensorFlow with the appropriate compiler flags.\n"
     ]
    }
   ],
   "source": [
    "import tensorflow as tf\n",
    "import scipy\n",
    "from tensorflow.keras.models import Sequential\n",
    "from tensorflow.keras.layers import Conv2D, MaxPooling2D\n",
    "from tensorflow.keras.layers import Flatten, Dense, Dropout\n",
    "from tensorflow.keras.optimizers import Adam\n",
    "from keras.preprocessing.image import ImageDataGenerator"
   ]
  },
  {
   "cell_type": "code",
   "outputs": [
    {
     "name": "stdout",
     "output_type": "stream",
     "text": [
      "Found 12271 images belonging to 7 classes.\n",
      "Found 3068 images belonging to 7 classes.\n"
     ]
    }
   ],
   "source": [
    "# Define paths to your training and testing directories\n",
    "train_dir = 'Datasets/RAF-DB/DATASET/train'\n",
    "test_dir = 'Datasets/RAF-DB/DATASET/test'\n",
    "# train_dir = 'Datasets/FER2013/train'\n",
    "# test_dir = 'Datasets/FER2013/test'\n",
    "# Set the image size and batch size\n",
    "image_size = (224, 224)\n",
    "#image_size = (48, 48)\n",
    "\n",
    "batch_size = 32\n",
    "\n",
    "# Create an ImageDataGenerator for data augmentation (optional)\n",
    "train_datagen = ImageDataGenerator(\n",
    "    rescale=1. / 255,  # Normalize pixel values\n",
    "    horizontal_flip=True,  # Augmentation: horizontal flip\n",
    "    # zoom_range=0.0,  # Augmentation: zoom (with current dataset not needed, since faces are centered)\n",
    "    # rotation_range=10,  # Augmentation: rotation\n",
    "    # width_shift_range=0.05,  # Augmentation: width shift (only 5% since faces are centered)\n",
    "    # height_shift_range=0.05  # Augmentation: height shift (only 5% since faces are centered)\n",
    ")\n",
    "\n",
    "test_datagen = ImageDataGenerator(rescale=1. / 255)  # Only rescaling for test data\n",
    "\n",
    "# Load images from directories\n",
    "train_generator = train_datagen.flow_from_directory(\n",
    "    train_dir,\n",
    "    target_size=image_size,  # Resize images to (48, 48) for uniformity\n",
    "    batch_size=batch_size,  # Batch size for training\n",
    "    #color_mode='grayscale',  # FER-2013 images are grayscale\n",
    "    class_mode='categorical'  # For multi-class classification\n",
    ")\n",
    "\n",
    "test_generator = test_datagen.flow_from_directory(\n",
    "    test_dir,\n",
    "    target_size=image_size,\n",
    "    batch_size=batch_size,\n",
    "    #color_mode='grayscale',\n",
    "    class_mode='categorical'\n",
    ")"
   ],
   "metadata": {
    "collapsed": false,
    "ExecuteTime": {
     "end_time": "2024-01-24T12:18:31.950784Z",
     "start_time": "2024-01-24T12:18:31.219732Z"
    }
   },
   "id": "518379f540b487a5",
   "execution_count": 7
  },
  {
   "cell_type": "markdown",
   "source": [
    "train_generator and test_generator are now ready to be used in model training and evaluation"
   ],
   "metadata": {
    "collapsed": false
   },
   "id": "c665c1e09bba0381"
  },
  {
   "cell_type": "code",
   "outputs": [
    {
     "name": "stdout",
     "output_type": "stream",
     "text": [
      "Model: \"sequential_2\"\n",
      "_________________________________________________________________\n",
      " Layer (type)                Output Shape              Param #   \n",
      "=================================================================\n",
      " conv2d_6 (Conv2D)           (None, 222, 222, 224)     6272      \n",
      "                                                                 \n",
      " max_pooling2d_6 (MaxPoolin  (None, 111, 111, 224)     0         \n",
      " g2D)                                                            \n",
      "                                                                 \n",
      " dropout_8 (Dropout)         (None, 111, 111, 224)     0         \n",
      "                                                                 \n",
      " conv2d_7 (Conv2D)           (None, 109, 109, 112)     225904    \n",
      "                                                                 \n",
      " max_pooling2d_7 (MaxPoolin  (None, 54, 54, 112)       0         \n",
      " g2D)                                                            \n",
      "                                                                 \n",
      " dropout_9 (Dropout)         (None, 54, 54, 112)       0         \n",
      "                                                                 \n",
      " conv2d_8 (Conv2D)           (None, 52, 52, 56)        56504     \n",
      "                                                                 \n",
      " max_pooling2d_8 (MaxPoolin  (None, 26, 26, 56)        0         \n",
      " g2D)                                                            \n",
      "                                                                 \n",
      " dropout_10 (Dropout)        (None, 26, 26, 56)        0         \n",
      "                                                                 \n",
      " flatten_2 (Flatten)         (None, 37856)             0         \n",
      "                                                                 \n",
      " dense_4 (Dense)             (None, 64)                2422848   \n",
      "                                                                 \n",
      " dropout_11 (Dropout)        (None, 64)                0         \n",
      "                                                                 \n",
      " dense_5 (Dense)             (None, 7)                 455       \n",
      "                                                                 \n",
      "=================================================================\n",
      "Total params: 2711983 (10.35 MB)\n",
      "Trainable params: 2711983 (10.35 MB)\n",
      "Non-trainable params: 0 (0.00 Byte)\n",
      "_________________________________________________________________\n"
     ]
    }
   ],
   "source": [
    "# Define the model\n",
    "model = Sequential()\n",
    "\n",
    "# First Conv Block\n",
    "model.add(Conv2D(224, (3, 3), activation='relu', input_shape=(224, 224, 3)))\n",
    "model.add(MaxPooling2D((2, 2)))\n",
    "model.add(Dropout(0.25))\n",
    "\n",
    "# Second Conv Block\n",
    "model.add(Conv2D(112, (3, 3), activation='relu'))\n",
    "model.add(MaxPooling2D((2, 2)))\n",
    "model.add(Dropout(0.25))\n",
    "\n",
    "# Third Conv Block\n",
    "model.add(Conv2D(56, (3, 3), activation='relu'))\n",
    "model.add(MaxPooling2D((2, 2)))\n",
    "model.add(Dropout(0.25))\n",
    "\n",
    "# Flatten and Dense Layers\n",
    "model.add(Flatten())\n",
    "model.add(Dense(64, activation='relu'))\n",
    "model.add(Dropout(0.5))\n",
    "model.add(Dense(7, activation='softmax'))  # Assuming 7 emotions\n",
    "\n",
    "# Compile the model\n",
    "model.compile(optimizer=Adam(learning_rate=0.001),\n",
    "              loss='categorical_crossentropy',\n",
    "              metrics=['accuracy'])\n",
    "\n",
    "# Model summary\n",
    "model.summary()"
   ],
   "metadata": {
    "collapsed": false,
    "ExecuteTime": {
     "end_time": "2024-01-24T12:19:49.469620Z",
     "start_time": "2024-01-24T12:19:49.301811Z"
    }
   },
   "id": "d542622cdcf7878",
   "execution_count": 10
  },
  {
   "cell_type": "code",
   "outputs": [
    {
     "name": "stdout",
     "output_type": "stream",
     "text": [
      "Epoch 1/10\n",
      "383/383 [==============================] - 1661s 4s/step - loss: 1.5977 - accuracy: 0.4227 - val_loss: 1.2918 - val_accuracy: 0.5375\n",
      "Epoch 2/10\n",
      "383/383 [==============================] - 1574s 4s/step - loss: 1.2864 - accuracy: 0.5332 - val_loss: 1.1216 - val_accuracy: 0.6089\n",
      "Epoch 3/10\n",
      "383/383 [==============================] - 1645s 4s/step - loss: 1.2056 - accuracy: 0.5668 - val_loss: 1.0653 - val_accuracy: 0.6434\n",
      "Epoch 4/10\n",
      "383/383 [==============================] - 1691s 4s/step - loss: 1.1383 - accuracy: 0.5860 - val_loss: 1.0020 - val_accuracy: 0.6618\n",
      "Epoch 5/10\n",
      "383/383 [==============================] - 1859s 5s/step - loss: 1.1073 - accuracy: 0.6073 - val_loss: 0.9886 - val_accuracy: 0.6562\n",
      "Epoch 6/10\n",
      "383/383 [==============================] - 2144s 6s/step - loss: 1.0689 - accuracy: 0.6156 - val_loss: 0.9538 - val_accuracy: 0.6707\n",
      "Epoch 7/10\n",
      "383/383 [==============================] - 2161s 6s/step - loss: 1.0412 - accuracy: 0.6277 - val_loss: 0.9210 - val_accuracy: 0.6694\n",
      "Epoch 8/10\n",
      "383/383 [==============================] - 2157s 6s/step - loss: 1.0155 - accuracy: 0.6319 - val_loss: 0.9065 - val_accuracy: 0.6766\n",
      "Epoch 9/10\n",
      "383/383 [==============================] - 2145s 6s/step - loss: 0.9734 - accuracy: 0.6490 - val_loss: 0.8688 - val_accuracy: 0.6878\n",
      "Epoch 10/10\n",
      "383/383 [==============================] - 2133s 6s/step - loss: 0.9616 - accuracy: 0.6550 - val_loss: 0.8515 - val_accuracy: 0.6977\n"
     ]
    }
   ],
   "source": [
    "# Number of epochs to train for\n",
    "epochs = 10\n",
    "\n",
    "# Steps per epoch (usually the number of samples in the training set divided by the batch size)\n",
    "steps_per_epoch = train_generator.samples // train_generator.batch_size\n",
    "\n",
    "# Validation steps (usually the number of samples in the validation set divided by the batch size)\n",
    "validation_steps = test_generator.samples // test_generator.batch_size\n",
    "\n",
    "# Train the model\n",
    "history = model.fit(\n",
    "    train_generator,\n",
    "    steps_per_epoch=steps_per_epoch,\n",
    "    epochs=epochs,\n",
    "    validation_data=test_generator,\n",
    "    validation_steps=validation_steps\n",
    ")"
   ],
   "metadata": {
    "collapsed": false,
    "ExecuteTime": {
     "end_time": "2024-01-24T17:39:20.205650Z",
     "start_time": "2024-01-24T12:19:50.105980Z"
    }
   },
   "id": "d8e18494f5b0d9f6",
   "execution_count": 11
  },
  {
   "cell_type": "code",
   "outputs": [
    {
     "name": "stdout",
     "output_type": "stream",
     "text": [
      "96/96 [==============================] - 113s 1s/step - loss: 0.8526 - accuracy: 0.6988\n",
      "Test accuracy:  0.6988266110420227\n",
      "96/96 [==============================] - 112s 1s/step\n",
      "Classification Report\n",
      "              precision    recall  f1-score   support\n",
      "\n",
      "           1       0.10      0.10      0.10       329\n",
      "           2       0.00      0.00      0.00        74\n",
      "           3       0.00      0.00      0.00       160\n",
      "           4       0.39      0.44      0.41      1185\n",
      "           5       0.14      0.09      0.11       478\n",
      "           6       0.04      0.04      0.04       162\n",
      "           7       0.22      0.29      0.25       680\n",
      "\n",
      "    accuracy                           0.26      3068\n",
      "   macro avg       0.13      0.14      0.13      3068\n",
      "weighted avg       0.23      0.26      0.25      3068\n"
     ]
    },
    {
     "data": {
      "text/plain": "<Figure size 1000x1000 with 2 Axes>",
      "image/png": "[encoded data removed]"
     },
     "metadata": {},
     "output_type": "display_data"
    }
   ],
   "source": [
    "import numpy as np\n",
    "from sklearn.metrics import classification_report, confusion_matrix\n",
    "import matplotlib.pyplot as plt\n",
    "\n",
    "# Evaluate the model on the test set\n",
    "test_loss, test_accuracy = model.evaluate(test_generator, steps=np.ceil(test_generator.samples / test_generator.batch_size))\n",
    "print(\"Test accuracy: \", test_accuracy)\n",
    "\n",
    "# Predictions on the test set\n",
    "test_generator.reset()\n",
    "predictions = model.predict(test_generator, steps=np.ceil(test_generator.samples / test_generator.batch_size))\n",
    "predicted_classes = np.argmax(predictions, axis=1)\n",
    "\n",
    "# Since the generator omits some samples due to rounding down in 'steps', we trim 'true_classes' to match 'predicted_classes' length\n",
    "true_classes = test_generator.classes\n",
    "true_classes = true_classes[:len(predicted_classes)]\n",
    "\n",
    "class_labels = list(test_generator.class_indices.keys())\n",
    "\n",
    "# Classification report\n",
    "print(\"Classification Report\")\n",
    "print(classification_report(true_classes, predicted_classes, target_names=class_labels, zero_division=0))\n",
    "\n",
    "# Confusion Matrix\n",
    "cm = confusion_matrix(true_classes, predicted_classes)\n",
    "plt.figure(figsize=(10, 10))\n",
    "plt.imshow(cm, interpolation='nearest', cmap=plt.cm.Blues)\n",
    "plt.title(\"Confusion Matrix\")\n",
    "plt.colorbar()\n",
    "tick_marks = np.arange(len(class_labels))\n",
    "plt.xticks(tick_marks, class_labels, rotation=45)\n",
    "plt.yticks(tick_marks, class_labels)\n",
    "plt.xlabel('Predicted Label')\n",
    "plt.ylabel('True Label')\n",
    "plt.show()\n"
   ],
   "metadata": {
    "collapsed": false,
    "ExecuteTime": {
     "end_time": "2024-01-24T17:43:19.871958Z",
     "start_time": "2024-01-24T17:39:27.834820Z"
    }
   },
   "id": "46691c52a9691d78",
   "execution_count": 12
  },
  {
   "cell_type": "markdown",
   "source": [
    "Conducting error analysis\n",
    "This can be done by examining misclassified examples, which can provide insights into what types of errors the model is making"
   ],
   "metadata": {
    "collapsed": false
   },
   "id": "608e3da9e8b70395"
  }
 ],
 "metadata": {
  "kernelspec": {
   "display_name": "Python 3",
   "language": "python",
   "name": "python3"
  },
  "language_info": {
   "codemirror_mode": {
    "name": "ipython",
    "version": 2
   },
   "file_extension": ".py",
   "mimetype": "text/x-python",
   "name": "python",
   "nbconvert_exporter": "python",
   "pygments_lexer": "ipython2",
   "version": "2.7.6"
  }
 },
 "nbformat": 4,
 "nbformat_minor": 5
}
