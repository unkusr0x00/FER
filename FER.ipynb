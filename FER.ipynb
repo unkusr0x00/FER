{
 "cells": [
  {
   "cell_type": "code",
   "execution_count": 1,
   "id": "initial_id",
   "metadata": {
    "collapsed": true,
    "ExecuteTime": {
     "end_time": "2024-01-18T10:44:15.396745Z",
     "start_time": "2024-01-18T10:44:08.266054Z"
    }
   },
   "outputs": [
    {
     "name": "stderr",
     "output_type": "stream",
     "text": [
      "2024-01-18 11:44:10.893304: I tensorflow/core/platform/cpu_feature_guard.cc:182] This TensorFlow binary is optimized to use available CPU instructions in performance-critical operations.\n",
      "To enable the following instructions: AVX2 FMA, in other operations, rebuild TensorFlow with the appropriate compiler flags.\n"
     ]
    }
   ],
   "source": [
    "import tensorflow as tf\n",
    "import scipy\n",
    "from tensorflow.keras.models import Sequential\n",
    "from tensorflow.keras.layers import Conv2D, MaxPooling2D\n",
    "from tensorflow.keras.layers import Flatten, Dense, Dropout\n",
    "from tensorflow.keras.optimizers import Adam\n",
    "from keras.preprocessing.image import ImageDataGenerator"
   ]
  },
  {
   "cell_type": "code",
   "outputs": [
    {
     "name": "stdout",
     "output_type": "stream",
     "text": [
      "Found 28709 images belonging to 7 classes.\n",
      "Found 7178 images belonging to 7 classes.\n"
     ]
    }
   ],
   "source": [
    "# Define paths to your training and testing directories\n",
    "train_dir = 'Datasets/FER2013/train'\n",
    "test_dir = 'Datasets/FER2013/test'\n",
    "# Set the image size and batch size\n",
    "image_size = (48, 48)\n",
    "batch_size = 32\n",
    "\n",
    "# Create an ImageDataGenerator for data augmentation (optional)\n",
    "train_datagen = ImageDataGenerator(\n",
    "    rescale=1. / 255,  # Normalize pixel values\n",
    "    horizontal_flip=True,  # Augmentation: horizontal flip\n",
    "    # zoom_range=0.0,  # Augmentation: zoom (with current dataset not needed, since faces are centered)\n",
    "    # rotation_range=10,  # Augmentation: rotation\n",
    "    # width_shift_range=0.05,  # Augmentation: width shift (only 5% since faces are centered)\n",
    "    # height_shift_range=0.05  # Augmentation: height shift (only 5% since faces are centered)\n",
    ")\n",
    "\n",
    "test_datagen = ImageDataGenerator(rescale=1. / 255)  # Only rescaling for test data\n",
    "\n",
    "# Load images from directories\n",
    "train_generator = train_datagen.flow_from_directory(\n",
    "    train_dir,\n",
    "    target_size=image_size,  # Resize images to (48, 48) for uniformity\n",
    "    batch_size=batch_size,  # Batch size for training\n",
    "    color_mode='grayscale',  # FER-2013 images are grayscale\n",
    "    class_mode='categorical'  # For multi-class classification\n",
    ")\n",
    "\n",
    "test_generator = test_datagen.flow_from_directory(\n",
    "    test_dir,\n",
    "    target_size=image_size,\n",
    "    batch_size=batch_size,\n",
    "    color_mode='grayscale',\n",
    "    class_mode='categorical'\n",
    ")"
   ],
   "metadata": {
    "collapsed": false,
    "ExecuteTime": {
     "end_time": "2024-01-18T13:29:08.938609Z",
     "start_time": "2024-01-18T13:29:07.513471Z"
    }
   },
   "id": "518379f540b487a5",
   "execution_count": 8
  },
  {
   "cell_type": "markdown",
   "source": [
    "train_generator and test_generator are now ready to be used in model training and evaluation"
   ],
   "metadata": {
    "collapsed": false
   },
   "id": "c665c1e09bba0381"
  },
  {
   "cell_type": "code",
   "outputs": [
    {
     "name": "stdout",
     "output_type": "stream",
     "text": [
      "Model: \"sequential_1\"\n",
      "_________________________________________________________________\n",
      " Layer (type)                Output Shape              Param #   \n",
      "=================================================================\n",
      " conv2d_3 (Conv2D)           (None, 46, 46, 32)        320       \n",
      "                                                                 \n",
      " max_pooling2d_3 (MaxPoolin  (None, 23, 23, 32)        0         \n",
      " g2D)                                                            \n",
      "                                                                 \n",
      " dropout_4 (Dropout)         (None, 23, 23, 32)        0         \n",
      "                                                                 \n",
      " conv2d_4 (Conv2D)           (None, 21, 21, 64)        18496     \n",
      "                                                                 \n",
      " max_pooling2d_4 (MaxPoolin  (None, 10, 10, 64)        0         \n",
      " g2D)                                                            \n",
      "                                                                 \n",
      " dropout_5 (Dropout)         (None, 10, 10, 64)        0         \n",
      "                                                                 \n",
      " conv2d_5 (Conv2D)           (None, 8, 8, 128)         73856     \n",
      "                                                                 \n",
      " max_pooling2d_5 (MaxPoolin  (None, 4, 4, 128)         0         \n",
      " g2D)                                                            \n",
      "                                                                 \n",
      " dropout_6 (Dropout)         (None, 4, 4, 128)         0         \n",
      "                                                                 \n",
      " flatten_1 (Flatten)         (None, 2048)              0         \n",
      "                                                                 \n",
      " dense_2 (Dense)             (None, 64)                131136    \n",
      "                                                                 \n",
      " dropout_7 (Dropout)         (None, 64)                0         \n",
      "                                                                 \n",
      " dense_3 (Dense)             (None, 7)                 455       \n",
      "                                                                 \n",
      "=================================================================\n",
      "Total params: 224263 (876.03 KB)\n",
      "Trainable params: 224263 (876.03 KB)\n",
      "Non-trainable params: 0 (0.00 Byte)\n",
      "_________________________________________________________________\n"
     ]
    }
   ],
   "source": [
    "# Define the model\n",
    "model = Sequential()\n",
    "\n",
    "# First Conv Block\n",
    "model.add(Conv2D(32, (3, 3), activation='relu', input_shape=(48, 48, 1)))\n",
    "model.add(MaxPooling2D((2, 2)))\n",
    "model.add(Dropout(0.25))\n",
    "\n",
    "# Second Conv Block\n",
    "model.add(Conv2D(64, (3, 3), activation='relu'))\n",
    "model.add(MaxPooling2D((2, 2)))\n",
    "model.add(Dropout(0.25))\n",
    "\n",
    "# Third Conv Block\n",
    "model.add(Conv2D(128, (3, 3), activation='relu'))\n",
    "model.add(MaxPooling2D((2, 2)))\n",
    "model.add(Dropout(0.25))\n",
    "\n",
    "# Flatten and Dense Layers\n",
    "model.add(Flatten())\n",
    "model.add(Dense(64, activation='relu'))\n",
    "model.add(Dropout(0.5))\n",
    "model.add(Dense(7, activation='softmax'))  # Assuming 7 emotions\n",
    "\n",
    "# Compile the model\n",
    "model.compile(optimizer=Adam(learning_rate=0.001),\n",
    "              loss='categorical_crossentropy',\n",
    "              metrics=['accuracy'])\n",
    "\n",
    "# Model summary\n",
    "model.summary()"
   ],
   "metadata": {
    "collapsed": false,
    "ExecuteTime": {
     "end_time": "2024-01-18T13:29:12.113441Z",
     "start_time": "2024-01-18T13:29:12.011661Z"
    }
   },
   "id": "d542622cdcf7878",
   "execution_count": 9
  },
  {
   "cell_type": "code",
   "outputs": [
    {
     "name": "stdout",
     "output_type": "stream",
     "text": [
      "Epoch 1/10\n",
      "897/897 [==============================] - 53s 58ms/step - loss: 1.7845 - accuracy: 0.2669 - val_loss: 1.6465 - val_accuracy: 0.3313\n",
      "Epoch 2/10\n",
      "897/897 [==============================] - 53s 60ms/step - loss: 1.6390 - accuracy: 0.3505 - val_loss: 1.5435 - val_accuracy: 0.4308\n",
      "Epoch 3/10\n",
      "897/897 [==============================] - 56s 63ms/step - loss: 1.5373 - accuracy: 0.3990 - val_loss: 1.4217 - val_accuracy: 0.4672\n",
      "Epoch 4/10\n",
      "897/897 [==============================] - 110s 123ms/step - loss: 1.4717 - accuracy: 0.4281 - val_loss: 1.3593 - val_accuracy: 0.4821\n",
      "Epoch 5/10\n",
      "897/897 [==============================] - 56s 62ms/step - loss: 1.4255 - accuracy: 0.4502 - val_loss: 1.3096 - val_accuracy: 0.5000\n",
      "Epoch 6/10\n",
      "897/897 [==============================] - 60s 67ms/step - loss: 1.4067 - accuracy: 0.4625 - val_loss: 1.2790 - val_accuracy: 0.5152\n",
      "Epoch 7/10\n",
      "897/897 [==============================] - 109s 121ms/step - loss: 1.3780 - accuracy: 0.4745 - val_loss: 1.2702 - val_accuracy: 0.5181\n",
      "Epoch 8/10\n",
      "897/897 [==============================] - 368s 410ms/step - loss: 1.3556 - accuracy: 0.4819 - val_loss: 1.2417 - val_accuracy: 0.5250\n",
      "Epoch 9/10\n",
      "897/897 [==============================] - 406s 453ms/step - loss: 1.3435 - accuracy: 0.4881 - val_loss: 1.2294 - val_accuracy: 0.5353\n",
      "Epoch 10/10\n",
      "897/897 [==============================] - 392s 437ms/step - loss: 1.3253 - accuracy: 0.4982 - val_loss: 1.2279 - val_accuracy: 0.5300\n"
     ]
    }
   ],
   "source": [
    "# Number of epochs to train for\n",
    "epochs = 10\n",
    "\n",
    "# Steps per epoch (usually the number of samples in the training set divided by the batch size)\n",
    "steps_per_epoch = train_generator.samples // train_generator.batch_size\n",
    "\n",
    "# Validation steps (usually the number of samples in the validation set divided by the batch size)\n",
    "validation_steps = test_generator.samples // test_generator.batch_size\n",
    "\n",
    "# Train the model\n",
    "history = model.fit(\n",
    "    train_generator,\n",
    "    steps_per_epoch=steps_per_epoch,\n",
    "    epochs=epochs,\n",
    "    validation_data=test_generator,\n",
    "    validation_steps=validation_steps\n",
    ")"
   ],
   "metadata": {
    "collapsed": false,
    "ExecuteTime": {
     "end_time": "2024-01-18T13:56:58.142989Z",
     "start_time": "2024-01-18T13:29:13.425298Z"
    }
   },
   "id": "d8e18494f5b0d9f6",
   "execution_count": 10
  },
  {
   "cell_type": "code",
   "outputs": [
    {
     "name": "stdout",
     "output_type": "stream",
     "text": [
      "225/225 [==============================] - 56s 248ms/step - loss: 1.2278 - accuracy: 0.5300\n",
      "Test accuracy:  0.5299526453018188\n",
      "225/225 [==============================] - 48s 208ms/step\n",
      "Classification Report\n",
      "              precision    recall  f1-score   support\n",
      "\n",
      "       angry       0.14      0.13      0.13       958\n",
      "     disgust       0.00      0.00      0.00       111\n",
      "        fear       0.14      0.06      0.09      1024\n",
      "       happy       0.24      0.30      0.27      1774\n",
      "     neutral       0.17      0.22      0.19      1233\n",
      "         sad       0.19      0.18      0.19      1247\n",
      "    surprise       0.11      0.12      0.11       831\n",
      "\n",
      "    accuracy                           0.18      7178\n",
      "   macro avg       0.14      0.14      0.14      7178\n",
      "weighted avg       0.17      0.18      0.18      7178\n"
     ]
    },
    {
     "data": {
      "text/plain": "<Figure size 1000x1000 with 2 Axes>",
      "image/png": "[encoded data removed]"
     },
     "metadata": {},
     "output_type": "display_data"
    }
   ],
   "source": [
    "import numpy as np\n",
    "from sklearn.metrics import classification_report, confusion_matrix\n",
    "import matplotlib.pyplot as plt\n",
    "\n",
    "# Evaluate the model on the test set\n",
    "test_loss, test_accuracy = model.evaluate(test_generator, steps=np.ceil(test_generator.samples / test_generator.batch_size))\n",
    "print(\"Test accuracy: \", test_accuracy)\n",
    "\n",
    "# Predictions on the test set\n",
    "test_generator.reset()\n",
    "predictions = model.predict(test_generator, steps=np.ceil(test_generator.samples / test_generator.batch_size))\n",
    "predicted_classes = np.argmax(predictions, axis=1)\n",
    "\n",
    "# Since the generator omits some samples due to rounding down in 'steps', we trim 'true_classes' to match 'predicted_classes' length\n",
    "true_classes = test_generator.classes\n",
    "true_classes = true_classes[:len(predicted_classes)]\n",
    "\n",
    "class_labels = list(test_generator.class_indices.keys())\n",
    "\n",
    "# Classification report\n",
    "print(\"Classification Report\")\n",
    "print(classification_report(true_classes, predicted_classes, target_names=class_labels, zero_division=0))\n",
    "\n",
    "# Confusion Matrix\n",
    "cm = confusion_matrix(true_classes, predicted_classes)\n",
    "plt.figure(figsize=(10, 10))\n",
    "plt.imshow(cm, interpolation='nearest', cmap=plt.cm.Blues)\n",
    "plt.title(\"Confusion Matrix\")\n",
    "plt.colorbar()\n",
    "tick_marks = np.arange(len(class_labels))\n",
    "plt.xticks(tick_marks, class_labels, rotation=45)\n",
    "plt.yticks(tick_marks, class_labels)\n",
    "plt.xlabel('Predicted Label')\n",
    "plt.ylabel('True Label')\n",
    "plt.show()\n"
   ],
   "metadata": {
    "collapsed": false,
    "ExecuteTime": {
     "end_time": "2024-01-18T14:06:07.100050Z",
     "start_time": "2024-01-18T14:04:08.559243Z"
    }
   },
   "id": "46691c52a9691d78",
   "execution_count": 11
  },
  {
   "cell_type": "markdown",
   "source": [
    "Conducting error analysis\n",
    "This can be done by examining misclassified examples, which can provide insights into what types of errors the model is making"
   ],
   "metadata": {
    "collapsed": false
   },
   "id": "608e3da9e8b70395"
  }
 ],
 "metadata": {
  "kernelspec": {
   "display_name": "Python 3",
   "language": "python",
   "name": "python3"
  },
  "language_info": {
   "codemirror_mode": {
    "name": "ipython",
    "version": 2
   },
   "file_extension": ".py",
   "mimetype": "text/x-python",
   "name": "python",
   "nbconvert_exporter": "python",
   "pygments_lexer": "ipython2",
   "version": "2.7.6"
  }
 },
 "nbformat": 4,
 "nbformat_minor": 5
}
