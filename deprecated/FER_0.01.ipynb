{
 "cells": [
  {
   "cell_type": "markdown",
   "source": [
    "Dataset: RAF-DB\n",
    "The model architecture consists of three convolutional layers, each followed by max-pooling and dropout, ending with fully connected layers for classification."
   ],
   "metadata": {
    "collapsed": false
   },
   "id": "ac5b4f78b8ae7f69"
  },
  {
   "cell_type": "code",
   "outputs": [],
   "source": [
    "import numpy as np\n",
    "import matplotlib.pyplot as plt\n",
    "from tensorflow.keras.models import Sequential\n",
    "from tensorflow.keras.layers import Conv2D, MaxPooling2D\n",
    "from tensorflow.keras.layers import Flatten, Dense, Dropout\n",
    "from tensorflow.keras.optimizers import Adam\n",
    "from keras.preprocessing.image import ImageDataGenerator\n",
    "from sklearn.metrics import classification_report, confusion_matrix"
   ],
   "metadata": {
    "collapsed": true,
    "ExecuteTime": {
     "end_time": "2024-01-31T13:01:28.758284Z",
     "start_time": "2024-01-31T13:01:28.756070Z"
    }
   },
   "id": "initial_id",
   "execution_count": 3
  },
  {
   "cell_type": "code",
   "outputs": [
    {
     "name": "stdout",
     "output_type": "stream",
     "text": [
      "Found 12271 images belonging to 7 classes.\n",
      "Found 3068 images belonging to 7 classes.\n"
     ]
    }
   ],
   "source": [
    "# Define paths to your training and testing directories\n",
    "train_dir = 'Datasets/RAF-DB/DATASET/train'\n",
    "test_dir = 'Datasets/RAF-DB/DATASET/test'\n",
    "# train_dir = 'Datasets/FER2013/train'\n",
    "# test_dir = 'Datasets/FER2013/test'\n",
    "# Set the image size and batch size\n",
    "image_size = (224, 224)\n",
    "#image_size = (48, 48)\n",
    "\n",
    "batch_size = 32\n",
    "\n",
    "# Create an ImageDataGenerator for data augmentation (optional)\n",
    "train_datagen = ImageDataGenerator(\n",
    "    rescale=1. / 255,  # Normalize pixel values\n",
    "    horizontal_flip=True,  # Augmentation: horizontal flip\n",
    "    # zoom_range=0.0,  # Augmentation: zoom (with current dataset not needed, since faces are centered)\n",
    "    # rotation_range=10,  # Augmentation: rotation\n",
    "    # width_shift_range=0.05,  # Augmentation: width shift (only 5% since faces are centered)\n",
    "    # height_shift_range=0.05  # Augmentation: height shift (only 5% since faces are centered)\n",
    "    brightness_range=[0.8, 1.2]\n",
    ")\n",
    "\n",
    "test_datagen = ImageDataGenerator(rescale=1. / 255)  # Only rescaling for test data\n",
    "\n",
    "# Load images from directories\n",
    "train_generator = train_datagen.flow_from_directory(\n",
    "    train_dir,\n",
    "    target_size=image_size,  # Resize images to (48, 48) for uniformity\n",
    "    batch_size=batch_size,  # Batch size for training\n",
    "    #color_mode='grayscale',  # FER-2013 images are grayscale\n",
    "    class_mode='categorical'  # For multi-class classification\n",
    ")\n",
    "\n",
    "test_generator = test_datagen.flow_from_directory(\n",
    "    test_dir,\n",
    "    target_size=image_size,\n",
    "    batch_size=batch_size,\n",
    "    #color_mode='grayscale',\n",
    "    class_mode='categorical'\n",
    ")"
   ],
   "metadata": {
    "collapsed": false,
    "ExecuteTime": {
     "end_time": "2024-01-31T13:01:36.399486Z",
     "start_time": "2024-01-31T13:01:35.554542Z"
    }
   },
   "id": "518379f540b487a5",
   "execution_count": 4
  },
  {
   "cell_type": "code",
   "outputs": [],
   "source": [],
   "metadata": {
    "collapsed": false
   },
   "id": "d1f460c59031e8b7"
  },
  {
   "cell_type": "markdown",
   "source": [
    "train_generator and test_generator are now ready to be used in model training and evaluation"
   ],
   "metadata": {
    "collapsed": false
   },
   "id": "c665c1e09bba0381"
  },
  {
   "cell_type": "code",
   "outputs": [
    {
     "name": "stdout",
     "output_type": "stream",
     "text": [
      "Model: \"sequential\"\n",
      "_________________________________________________________________\n",
      " Layer (type)                Output Shape              Param #   \n",
      "=================================================================\n",
      " conv2d (Conv2D)             (None, 222, 222, 224)     6272      \n",
      "                                                                 \n",
      " max_pooling2d (MaxPooling2  (None, 111, 111, 224)     0         \n",
      " D)                                                              \n",
      "                                                                 \n",
      " dropout (Dropout)           (None, 111, 111, 224)     0         \n",
      "                                                                 \n",
      " conv2d_1 (Conv2D)           (None, 109, 109, 112)     225904    \n",
      "                                                                 \n",
      " max_pooling2d_1 (MaxPoolin  (None, 54, 54, 112)       0         \n",
      " g2D)                                                            \n",
      "                                                                 \n",
      " dropout_1 (Dropout)         (None, 54, 54, 112)       0         \n",
      "                                                                 \n",
      " conv2d_2 (Conv2D)           (None, 52, 52, 56)        56504     \n",
      "                                                                 \n",
      " max_pooling2d_2 (MaxPoolin  (None, 26, 26, 56)        0         \n",
      " g2D)                                                            \n",
      "                                                                 \n",
      " dropout_2 (Dropout)         (None, 26, 26, 56)        0         \n",
      "                                                                 \n",
      " flatten (Flatten)           (None, 37856)             0         \n",
      "                                                                 \n",
      " dense (Dense)               (None, 64)                2422848   \n",
      "                                                                 \n",
      " dropout_3 (Dropout)         (None, 64)                0         \n",
      "                                                                 \n",
      " dense_1 (Dense)             (None, 7)                 455       \n",
      "                                                                 \n",
      "=================================================================\n",
      "Total params: 2711983 (10.35 MB)\n",
      "Trainable params: 2711983 (10.35 MB)\n",
      "Non-trainable params: 0 (0.00 Byte)\n",
      "_________________________________________________________________\n"
     ]
    }
   ],
   "source": [
    "# Define the model\n",
    "model = Sequential()\n",
    "\n",
    "# First Conv Block\n",
    "model.add(Conv2D(224, (3, 3), activation='relu', input_shape=(224, 224, 3)))\n",
    "model.add(MaxPooling2D((2, 2)))\n",
    "model.add(Dropout(0.25))\n",
    "\n",
    "# Second Conv Block\n",
    "model.add(Conv2D(112, (3, 3), activation='relu'))\n",
    "model.add(MaxPooling2D((2, 2)))\n",
    "model.add(Dropout(0.25))\n",
    "\n",
    "# Third Conv Block\n",
    "model.add(Conv2D(56, (3, 3), activation='relu'))\n",
    "model.add(MaxPooling2D((2, 2)))\n",
    "model.add(Dropout(0.25))\n",
    "\n",
    "# Flatten and Dense Layers\n",
    "model.add(Flatten())\n",
    "model.add(Dense(64, activation='relu'))\n",
    "model.add(Dropout(0.5))\n",
    "model.add(Dense(7, activation='softmax'))  # Assuming 7 emotions\n",
    "\n",
    "# Compile the model\n",
    "model.compile(optimizer=Adam(learning_rate=0.001),\n",
    "              loss='categorical_crossentropy',\n",
    "              metrics=['accuracy'])\n",
    "\n",
    "# Model summary\n",
    "model.summary()"
   ],
   "metadata": {
    "collapsed": false,
    "ExecuteTime": {
     "end_time": "2024-01-31T13:01:46.273301Z",
     "start_time": "2024-01-31T13:01:45.929720Z"
    }
   },
   "id": "d542622cdcf7878",
   "execution_count": 5
  },
  {
   "cell_type": "code",
   "outputs": [
    {
     "name": "stdout",
     "output_type": "stream",
     "text": [
      " 87/383 [=====>........................] - ETA: 32:32 - loss: 1.7940 - accuracy: 0.3797"
     ]
    }
   ],
   "source": [
    "# Number of epochs to train for\n",
    "epochs = 1\n",
    "\n",
    "# Steps per epoch (usually the number of samples in the training set divided by the batch size)\n",
    "steps_per_epoch = train_generator.samples // train_generator.batch_size\n",
    "\n",
    "# Validation steps (usually the number of samples in the validation set divided by the batch size)\n",
    "validation_steps = test_generator.samples // test_generator.batch_size\n",
    "\n",
    "# Train the model\n",
    "history = model.fit(\n",
    "    train_generator,\n",
    "    steps_per_epoch=steps_per_epoch,\n",
    "    epochs=epochs,\n",
    "    validation_data=test_generator,\n",
    "    validation_steps=validation_steps\n",
    ")"
   ],
   "metadata": {
    "collapsed": false,
    "is_executing": true,
    "ExecuteTime": {
     "start_time": "2024-01-31T13:01:50.367134Z"
    }
   },
   "id": "d8e18494f5b0d9f6",
   "execution_count": null
  },
  {
   "cell_type": "code",
   "outputs": [
    {
     "ename": "NameError",
     "evalue": "name 'model' is not defined",
     "output_type": "error",
     "traceback": [
      "\u001B[0;31m---------------------------------------------------------------------------\u001B[0m",
      "\u001B[0;31mNameError\u001B[0m                                 Traceback (most recent call last)",
      "Cell \u001B[0;32mIn[1], line 6\u001B[0m\n\u001B[1;32m      3\u001B[0m \u001B[38;5;28;01mimport\u001B[39;00m \u001B[38;5;21;01mmatplotlib\u001B[39;00m\u001B[38;5;21;01m.\u001B[39;00m\u001B[38;5;21;01mpyplot\u001B[39;00m \u001B[38;5;28;01mas\u001B[39;00m \u001B[38;5;21;01mplt\u001B[39;00m\n\u001B[1;32m      5\u001B[0m \u001B[38;5;66;03m# Evaluate the model on the test set\u001B[39;00m\n\u001B[0;32m----> 6\u001B[0m test_loss, test_accuracy \u001B[38;5;241m=\u001B[39m \u001B[43mmodel\u001B[49m\u001B[38;5;241m.\u001B[39mevaluate(test_generator, steps\u001B[38;5;241m=\u001B[39mnp\u001B[38;5;241m.\u001B[39mceil(test_generator\u001B[38;5;241m.\u001B[39msamples \u001B[38;5;241m/\u001B[39m test_generator\u001B[38;5;241m.\u001B[39mbatch_size))\n\u001B[1;32m      7\u001B[0m \u001B[38;5;28mprint\u001B[39m(\u001B[38;5;124m\"\u001B[39m\u001B[38;5;124mTest accuracy: \u001B[39m\u001B[38;5;124m\"\u001B[39m, test_accuracy)\n\u001B[1;32m      9\u001B[0m \u001B[38;5;66;03m# Predictions on the test set\u001B[39;00m\n",
      "\u001B[0;31mNameError\u001B[0m: name 'model' is not defined"
     ]
    }
   ],
   "source": [
    "# Evaluate the model on the test set\n",
    "test_loss, test_accuracy = model.evaluate(test_generator, steps=np.ceil(test_generator.samples / test_generator.batch_size))\n",
    "print(\"Test accuracy: \", test_accuracy)\n",
    "\n",
    "# Predictions on the test set\n",
    "test_generator.reset()\n",
    "predictions = model.predict(test_generator, steps=np.ceil(test_generator.samples / test_generator.batch_size))\n",
    "predicted_classes = np.argmax(predictions, axis=1)\n",
    "\n",
    "# Since the generator omits some samples due to rounding down in 'steps', we trim 'true_classes' to match 'predicted_classes' length\n",
    "true_classes = test_generator.classes\n",
    "true_classes = true_classes[:len(predicted_classes)]\n",
    "\n",
    "class_labels = list(test_generator.class_indices.keys())\n",
    "\n",
    "# Classification report\n",
    "print(\"Classification Report\")\n",
    "print(classification_report(true_classes, predicted_classes, target_names=class_labels, zero_division=0))\n",
    "\n",
    "# Confusion Matrix\n",
    "cm = confusion_matrix(true_classes, predicted_classes)\n",
    "plt.figure(figsize=(10, 10))\n",
    "plt.imshow(cm, interpolation='nearest', cmap=plt.cm.Blues)\n",
    "plt.title(\"Confusion Matrix\")\n",
    "plt.colorbar()\n",
    "tick_marks = np.arange(len(class_labels))\n",
    "plt.xticks(tick_marks, class_labels, rotation=45)\n",
    "plt.yticks(tick_marks, class_labels)\n",
    "plt.xlabel('Predicted Label')\n",
    "plt.ylabel('True Label')\n",
    "plt.show()\n"
   ],
   "metadata": {
    "collapsed": false,
    "ExecuteTime": {
     "end_time": "2024-01-31T13:00:24.211579Z",
     "start_time": "2024-01-31T13:00:21.990168Z"
    }
   },
   "id": "46691c52a9691d78",
   "execution_count": 1
  },
  {
   "cell_type": "markdown",
   "source": [
    "Conducting error analysis\n",
    "This can be done by examining misclassified examples, which can provide insights into what types of errors the model is making"
   ],
   "metadata": {
    "collapsed": false
   },
   "id": "608e3da9e8b70395"
  }
 ],
 "metadata": {
  "kernelspec": {
   "display_name": "Python 3",
   "language": "python",
   "name": "python3"
  },
  "language_info": {
   "codemirror_mode": {
    "name": "ipython",
    "version": 2
   },
   "file_extension": ".py",
   "mimetype": "text/x-python",
   "name": "python",
   "nbconvert_exporter": "python",
   "pygments_lexer": "ipython2",
   "version": "2.7.6"
  }
 },
 "nbformat": 4,
 "nbformat_minor": 5
}
