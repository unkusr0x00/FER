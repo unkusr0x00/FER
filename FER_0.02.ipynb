{
 "cells": [
  {
   "cell_type": "markdown",
   "source": [
    "Dataset: RAF-DB\n",
    "The model architecture consists of three convolutional layers, each followed by max-pooling and dropout, ending with fully connected layers for classification."
   ],
   "metadata": {
    "collapsed": false
   },
   "id": "95f1697b60439013"
  },
  {
   "cell_type": "code",
   "outputs": [
    {
     "name": "stderr",
     "output_type": "stream",
     "text": [
      "2024-01-31 16:53:35.246787: I tensorflow/core/platform/cpu_feature_guard.cc:182] This TensorFlow binary is optimized to use available CPU instructions in performance-critical operations.\n",
      "To enable the following instructions: AVX2 FMA, in other operations, rebuild TensorFlow with the appropriate compiler flags.\n"
     ]
    }
   ],
   "source": [
    "import numpy as np\n",
    "import matplotlib.pyplot as plt\n",
    "from keras.preprocessing.image import ImageDataGenerator\n",
    "from sklearn.utils.class_weight import compute_class_weight\n",
    "from sklearn.model_selection import train_test_split\n",
    "from tensorflow.keras.models import Sequential\n",
    "from tensorflow.keras.optimizers import Adam\n",
    "from tensorflow.keras.layers import Conv2D, MaxPooling2D, Dropout, Flatten, Dense, BatchNormalization\n",
    "from keras.callbacks import EarlyStopping, ModelCheckpoint\n",
    "from sklearn.metrics import classification_report, confusion_matrix"
   ],
   "metadata": {
    "collapsed": true,
    "ExecuteTime": {
     "end_time": "2024-01-31T15:53:52.980215Z",
     "start_time": "2024-01-31T15:53:20.718230Z"
    }
   },
   "id": "initial_id",
   "execution_count": 5
  },
  {
   "cell_type": "code",
   "outputs": [
    {
     "data": {
      "text/plain": "                                                filepath label\n13299  Datasets/RAF-DB/DATASET/test/4/test_0061_align...     4\n524    Datasets/RAF-DB/DATASET/train/1/train_07908_al...     1\n5347   Datasets/RAF-DB/DATASET/test/4/test_0574_align...     4\n6536   Datasets/RAF-DB/DATASET/train/4/train_04422_al...     4\n7784   Datasets/RAF-DB/DATASET/train/7/train_09931_al...     7\n9014   Datasets/RAF-DB/DATASET/train/5/train_05756_al...     5\n11059  Datasets/RAF-DB/DATASET/train/5/train_04650_al...     5\n1962   Datasets/RAF-DB/DATASET/train/7/train_10803_al...     7\n9377   Datasets/RAF-DB/DATASET/train/5/train_06695_al...     5\n9130   Datasets/RAF-DB/DATASET/train/1/train_03226_al...     1\n10000  Datasets/RAF-DB/DATASET/train/3/train_09462_al...     3\n9849   Datasets/RAF-DB/DATASET/test/4/test_0584_align...     4\n15060  Datasets/RAF-DB/DATASET/train/4/train_02919_al...     4\n1585   Datasets/RAF-DB/DATASET/train/7/train_10537_al...     7\n14494  Datasets/RAF-DB/DATASET/train/5/train_07445_al...     5",
      "text/html": "<div>\n<style scoped>\n    .dataframe tbody tr th:only-of-type {\n        vertical-align: middle;\n    }\n\n    .dataframe tbody tr th {\n        vertical-align: top;\n    }\n\n    .dataframe thead th {\n        text-align: right;\n    }\n</style>\n<table border=\"1\" class=\"dataframe\">\n  <thead>\n    <tr style=\"text-align: right;\">\n      <th></th>\n      <th>filepath</th>\n      <th>label</th>\n    </tr>\n  </thead>\n  <tbody>\n    <tr>\n      <th>13299</th>\n      <td>Datasets/RAF-DB/DATASET/test/4/test_0061_align...</td>\n      <td>4</td>\n    </tr>\n    <tr>\n      <th>524</th>\n      <td>Datasets/RAF-DB/DATASET/train/1/train_07908_al...</td>\n      <td>1</td>\n    </tr>\n    <tr>\n      <th>5347</th>\n      <td>Datasets/RAF-DB/DATASET/test/4/test_0574_align...</td>\n      <td>4</td>\n    </tr>\n    <tr>\n      <th>6536</th>\n      <td>Datasets/RAF-DB/DATASET/train/4/train_04422_al...</td>\n      <td>4</td>\n    </tr>\n    <tr>\n      <th>7784</th>\n      <td>Datasets/RAF-DB/DATASET/train/7/train_09931_al...</td>\n      <td>7</td>\n    </tr>\n    <tr>\n      <th>9014</th>\n      <td>Datasets/RAF-DB/DATASET/train/5/train_05756_al...</td>\n      <td>5</td>\n    </tr>\n    <tr>\n      <th>11059</th>\n      <td>Datasets/RAF-DB/DATASET/train/5/train_04650_al...</td>\n      <td>5</td>\n    </tr>\n    <tr>\n      <th>1962</th>\n      <td>Datasets/RAF-DB/DATASET/train/7/train_10803_al...</td>\n      <td>7</td>\n    </tr>\n    <tr>\n      <th>9377</th>\n      <td>Datasets/RAF-DB/DATASET/train/5/train_06695_al...</td>\n      <td>5</td>\n    </tr>\n    <tr>\n      <th>9130</th>\n      <td>Datasets/RAF-DB/DATASET/train/1/train_03226_al...</td>\n      <td>1</td>\n    </tr>\n    <tr>\n      <th>10000</th>\n      <td>Datasets/RAF-DB/DATASET/train/3/train_09462_al...</td>\n      <td>3</td>\n    </tr>\n    <tr>\n      <th>9849</th>\n      <td>Datasets/RAF-DB/DATASET/test/4/test_0584_align...</td>\n      <td>4</td>\n    </tr>\n    <tr>\n      <th>15060</th>\n      <td>Datasets/RAF-DB/DATASET/train/4/train_02919_al...</td>\n      <td>4</td>\n    </tr>\n    <tr>\n      <th>1585</th>\n      <td>Datasets/RAF-DB/DATASET/train/7/train_10537_al...</td>\n      <td>7</td>\n    </tr>\n    <tr>\n      <th>14494</th>\n      <td>Datasets/RAF-DB/DATASET/train/5/train_07445_al...</td>\n      <td>5</td>\n    </tr>\n  </tbody>\n</table>\n</div>"
     },
     "execution_count": 6,
     "metadata": {},
     "output_type": "execute_result"
    }
   ],
   "source": [
    "import os\n",
    "import pandas as pd\n",
    "\n",
    "# Define paths to your training and testing directories\n",
    "train_dir = 'Datasets/RAF-DB/DATASET/train'  # Replace with your training directory path\n",
    "test_dir = 'Datasets/RAF-DB/DATASET/test'    # Replace with your testing directory path\n",
    "\n",
    "# Function to add images from a directory to a list\n",
    "def process_directory(directory, data_list):\n",
    "    for class_name in os.listdir(directory):\n",
    "        class_dir = os.path.join(directory, class_name)\n",
    "\n",
    "        # Check if it's a directory\n",
    "        if os.path.isdir(class_dir):\n",
    "            # Loop through each image in the folder\n",
    "            for image_name in os.listdir(class_dir):\n",
    "                image_path = os.path.join(class_dir, image_name)\n",
    "                # Append to the data list\n",
    "                data_list.append({'filepath': image_path, 'label': class_name})\n",
    "\n",
    "# Initialize an empty list for storing data\n",
    "data_list = []\n",
    "\n",
    "# Add training images to the data list\n",
    "process_directory(train_dir, data_list)\n",
    "\n",
    "# Add testing images to the data list\n",
    "process_directory(test_dir, data_list)\n",
    "\n",
    "# Create a DataFrame from the list\n",
    "df = pd.DataFrame(data_list)\n",
    "\n",
    "# Shuffle the DataFrame\n",
    "df = df.sample(frac=1).reset_index(drop=True)\n",
    "\n",
    "# print 15 random samples of the DataFrame\n",
    "df.sample(15)"
   ],
   "metadata": {
    "collapsed": false,
    "ExecuteTime": {
     "end_time": "2024-01-31T15:53:53.053260Z",
     "start_time": "2024-01-31T15:53:52.986388Z"
    }
   },
   "id": "5e2142bf991a4889",
   "execution_count": 6
  },
  {
   "cell_type": "code",
   "outputs": [
    {
     "name": "stdout",
     "output_type": "stream",
     "text": [
      "Total samples: 15339\n",
      "Training set: 0.60 (9203 samples)\n",
      "Validation set: 0.20 (3068 samples)\n",
      "Test set: 0.20 (3068 samples)\n",
      "\n",
      "Found 9203 validated image filenames belonging to 7 classes.\n",
      "Found 3068 validated image filenames belonging to 7 classes.\n",
      "Found 3068 validated image filenames belonging to 7 classes.\n",
      "{0: 1.3199942627653471, 1: 6.003261578604044, 2: 2.4899891774891776, 3: 0.3661136969407646, 4: 0.9092076664690772, 5: 2.5578098943857697, 6: 0.6886926588340941}\n"
     ]
    }
   ],
   "source": [
    "# Define paths to your training and testing directories\n",
    "# train_dir = 'Datasets/RAF-DB/DATASET/train'\n",
    "# test_dir = 'Datasets/RAF-DB/DATASET/test'\n",
    "# train_dir = 'Datasets/FER2013/train'\n",
    "# test_dir = 'Datasets/FER2013/test'\n",
    "# Set the image size and batch size\n",
    "image_size = (96, 96) # Can be increased to improve accuracy or decreased to improve speed. (48, 48) for FER2013, (224, 224) for RAF-DB\n",
    "batch_size = 32\n",
    "\n",
    "# Split the data into training, validation, and test sets\n",
    "train_df, test_df = train_test_split(df, test_size=0.2, random_state=42)  # 80% training, 20% test\n",
    "train_df, val_df = train_test_split(train_df, test_size=0.25, random_state=42)  # Of the 80% training, split into 60% training and 20% validation\n",
    "\n",
    "# Calculate and print split ratios\n",
    "total_samples = len(df)\n",
    "train_ratio = len(train_df) / total_samples\n",
    "val_ratio = len(val_df) / total_samples\n",
    "test_ratio = len(test_df) / total_samples\n",
    "\n",
    "print(f\"Total samples: {total_samples}\")\n",
    "print(f\"Training set: {train_ratio:.2f} ({len(train_df)} samples)\")\n",
    "print(f\"Validation set: {val_ratio:.2f} ({len(val_df)} samples)\")\n",
    "print(f\"Test set: {test_ratio:.2f} ({len(test_df)} samples)\\n\")\n",
    "\n",
    "# Create an ImageDataGenerator for data augmentation (optional)\n",
    "train_datagen = ImageDataGenerator(\n",
    "    rescale=1./255, # Normalize pixel values to [0, 1]\n",
    "    # rotation_range=15,  # rotation\n",
    "    # width_shift_range=0.05, # horizontal shift (only 5% since faces are centered)\n",
    "    # height_shift_range=0.05, # vertical shift (only 5% since faces are centered)\n",
    "    # shear_range=0.1, \n",
    "    # # zoom_range=0.1,   zoom (with current dataset not needed, since faces are centered)\n",
    "    # horizontal_flip=True, # flip images horizontally\n",
    "    # fill_mode='constant', # fill in missing pixels (nearest / constant)\n",
    "    # brightness_range=[0.8, 1.2] # darken and lighten images\n",
    ")\n",
    "\n",
    "val_datagen = ImageDataGenerator(rescale=1./255)  # No augmentation for validation data\n",
    "test_datagen = ImageDataGenerator(rescale=1./255)  # No augmentation for test data\n",
    "\n",
    "# Create generators\n",
    "train_generator = train_datagen.flow_from_dataframe(\n",
    "    dataframe=train_df,\n",
    "    x_col='filepath',\n",
    "    y_col='label',\n",
    "    target_size=image_size,\n",
    "    batch_size=batch_size,\n",
    "    color_mode='grayscale',\n",
    "    class_mode='categorical'\n",
    ")\n",
    "\n",
    "val_generator = val_datagen.flow_from_dataframe(\n",
    "    dataframe=val_df,\n",
    "    x_col='filepath',\n",
    "    y_col='label',\n",
    "    target_size=image_size,\n",
    "    batch_size=batch_size,\n",
    "    color_mode='grayscale',\n",
    "    class_mode='categorical'\n",
    ")\n",
    "\n",
    "test_generator = test_datagen.flow_from_dataframe(\n",
    "    dataframe=test_df,\n",
    "    x_col='filepath',\n",
    "    y_col='label',\n",
    "    target_size=image_size,\n",
    "    batch_size=batch_size,\n",
    "    color_mode='grayscale',\n",
    "    class_mode='categorical'\n",
    ")\n",
    "\n",
    "# Compute class weights\n",
    "class_weights = compute_class_weight(\n",
    "    class_weight='balanced',\n",
    "    classes=np.unique(train_generator.classes),\n",
    "    y=train_generator.classes\n",
    ")\n",
    "\n",
    "class_weights_dict = dict(enumerate(class_weights))\n",
    "print(class_weights_dict)"
   ],
   "metadata": {
    "collapsed": false,
    "ExecuteTime": {
     "end_time": "2024-01-31T16:01:05.130032Z",
     "start_time": "2024-01-31T16:01:04.736191Z"
    }
   },
   "id": "518379f540b487a5",
   "execution_count": 13
  },
  {
   "cell_type": "code",
   "outputs": [
    {
     "name": "stdout",
     "output_type": "stream",
     "text": [
      "Model: \"sequential_1\"\n",
      "_________________________________________________________________\n",
      " Layer (type)                Output Shape              Param #   \n",
      "=================================================================\n",
      " conv2d_3 (Conv2D)           (None, 48, 48, 48)        240       \n",
      "                                                                 \n",
      " batch_normalization_4 (Bat  (None, 48, 48, 48)        192       \n",
      " chNormalization)                                                \n",
      "                                                                 \n",
      " max_pooling2d_3 (MaxPoolin  (None, 24, 24, 48)        0         \n",
      " g2D)                                                            \n",
      "                                                                 \n",
      " dropout_4 (Dropout)         (None, 24, 24, 48)        0         \n",
      "                                                                 \n",
      " conv2d_4 (Conv2D)           (None, 24, 24, 24)        4632      \n",
      "                                                                 \n",
      " batch_normalization_5 (Bat  (None, 24, 24, 24)        96        \n",
      " chNormalization)                                                \n",
      "                                                                 \n",
      " max_pooling2d_4 (MaxPoolin  (None, 12, 12, 24)        0         \n",
      " g2D)                                                            \n",
      "                                                                 \n",
      " dropout_5 (Dropout)         (None, 12, 12, 24)        0         \n",
      "                                                                 \n",
      " conv2d_5 (Conv2D)           (None, 12, 12, 12)        1164      \n",
      "                                                                 \n",
      " batch_normalization_6 (Bat  (None, 12, 12, 12)        48        \n",
      " chNormalization)                                                \n",
      "                                                                 \n",
      " max_pooling2d_5 (MaxPoolin  (None, 6, 6, 12)          0         \n",
      " g2D)                                                            \n",
      "                                                                 \n",
      " dropout_6 (Dropout)         (None, 6, 6, 12)          0         \n",
      "                                                                 \n",
      " flatten_1 (Flatten)         (None, 432)               0         \n",
      "                                                                 \n",
      " dense_2 (Dense)             (None, 64)                27712     \n",
      "                                                                 \n",
      " batch_normalization_7 (Bat  (None, 64)                256       \n",
      " chNormalization)                                                \n",
      "                                                                 \n",
      " dropout_7 (Dropout)         (None, 64)                0         \n",
      "                                                                 \n",
      " dense_3 (Dense)             (None, 7)                 455       \n",
      "                                                                 \n",
      "=================================================================\n",
      "Total params: 34795 (135.92 KB)\n",
      "Trainable params: 34499 (134.76 KB)\n",
      "Non-trainable params: 296 (1.16 KB)\n",
      "_________________________________________________________________\n"
     ]
    }
   ],
   "source": [
    "model = Sequential()\n",
    "\n",
    "# Previous model architecture neurons per layer: \n",
    "# 1. Start with images size (e.g. 224 for RAF-DB, 48 for FER2013) and divide by 2 for each convolutional layer\n",
    "# 2. Pyramidal model: double the number of filters for each convolutional layer, then halve the number of filters for each convolutional layer (e.g. 64, 128, 256, 128, 64)\n",
    "\n",
    "# First Conv Block\n",
    "model.add(Conv2D(64, (2, 2), padding='same', activation='relu', input_shape=(96, 96, 1))) # 48 filters, 2x2 kernel size, same padding, relu activation, input shape 48x48x1\n",
    "model.add(BatchNormalization()) # Batch normalization normalizes the output of a previous activation layer by subtracting the batch mean and dividing by the batch standard deviation\n",
    "model.add(MaxPooling2D(pool_size=(2, 2))) # Max pooling reduces computation by reducing the dimensionality of the feature maps\n",
    "model.add(Dropout(0.125))   # Dropout to prevent overfitting. From 0.25\n",
    "\n",
    "# Second Conv Block\n",
    "model.add(Conv2D(128, (2, 2), padding='same', activation='relu'))\n",
    "model.add(BatchNormalization())\n",
    "model.add(MaxPooling2D(pool_size=(2, 2)))\n",
    "model.add(Dropout(0.125))\n",
    "\n",
    "# Third Conv Block\n",
    "model.add(Conv2D(256, (2, 2), padding='same', activation='relu'))\n",
    "model.add(BatchNormalization())\n",
    "model.add(MaxPooling2D(pool_size=(2, 2)))\n",
    "model.add(Dropout(0.125))\n",
    "\n",
    "# Third Conv Block\n",
    "model.add(Conv2D(128, (2, 2), padding='same', activation='relu'))\n",
    "model.add(BatchNormalization())\n",
    "model.add(MaxPooling2D(pool_size=(2, 2)))\n",
    "model.add(Dropout(0.125))\n",
    "\n",
    "# Third Conv Block\n",
    "model.add(Conv2D(64, (2, 2), padding='same', activation='relu'))\n",
    "model.add(BatchNormalization())\n",
    "model.add(MaxPooling2D(pool_size=(2, 2)))\n",
    "model.add(Dropout(0.125))\n",
    "\n",
    "# Flatten and Dense Layers\n",
    "model.add(Flatten())\n",
    "model.add(Dense(128, activation='relu'))\n",
    "model.add(BatchNormalization())\n",
    "model.add(Dropout(0.25)) # Reduced from 0.5\n",
    "model.add(Dense(7, activation='softmax'))  # Assuming 7 emotions\n",
    "\n",
    "model.compile(optimizer=Adam(learning_rate=0.005), loss='categorical_crossentropy', metrics=['accuracy'])\n",
    "\n",
    "model.summary()"
   ],
   "metadata": {
    "collapsed": false,
    "ExecuteTime": {
     "end_time": "2024-01-24T14:31:06.575835Z",
     "start_time": "2024-01-24T14:31:06.416052Z"
    }
   },
   "id": "d542622cdcf7878",
   "execution_count": 6
  },
  {
   "cell_type": "code",
   "outputs": [],
   "source": [
    "# Early stopping to prevent overfitting. This stops training when the model's performance on the validation set starts to degrade.\n",
    "early_stopper = EarlyStopping(\n",
    "    monitor='val_loss',  # Metric to be monitored\n",
    "    patience=2,         # Number of epochs with no improvement after which training will be stopped\n",
    "    restore_best_weights=True  # Restores model weights from the epoch with the best value of the monitored metric\n",
    ")\n",
    "\n",
    "# Create a ModelCheckpoint callback\n",
    "checkpoint = ModelCheckpoint(\n",
    "    'model_checkpoint.h5',  # Path where to save the model\n",
    "    monitor='val_loss',     # Metric to monitor\n",
    "    save_best_only=False,    # Save only the best model. Set to False to save the model at the end of every epoch so restarting from specific epoch is possible\n",
    "    save_weights_only=True, # Save only the weights\n",
    "    mode='min',             # Minimize the monitored metric (val_loss)\n",
    "    verbose=1               # Verbose output\n",
    ")"
   ],
   "metadata": {
    "collapsed": false
   },
   "id": "7ce66c35afd457aa"
  },
  {
   "cell_type": "code",
   "outputs": [
    {
     "name": "stdout",
     "output_type": "stream",
     "text": [
      "Epoch 1/8\n",
      "448/448 [==============================] - 311s 692ms/step - loss: 2.0379 - accuracy: 0.2247 - val_loss: 2.4449 - val_accuracy: 0.2199\n",
      "Epoch 2/8\n",
      "448/448 [==============================] - 556s 1s/step - loss: 1.7837 - accuracy: 0.2770 - val_loss: 1.6665 - val_accuracy: 0.3398\n",
      "Epoch 3/8\n",
      "448/448 [==============================] - 579s 1s/step - loss: 1.7098 - accuracy: 0.3136 - val_loss: 1.5778 - val_accuracy: 0.3863\n",
      "Epoch 4/8\n",
      "448/448 [==============================] - 580s 1s/step - loss: 1.6538 - accuracy: 0.3444 - val_loss: 1.5204 - val_accuracy: 0.4222\n",
      "Epoch 5/8\n",
      "448/448 [==============================] - 559s 1s/step - loss: 1.5978 - accuracy: 0.3715 - val_loss: 1.9428 - val_accuracy: 0.2979\n",
      "Epoch 6/8\n",
      "355/448 [======================>.......] - ETA: 1:51 - loss: 1.5719 - accuracy: 0.3832"
     ]
    },
    {
     "name": "stderr",
     "output_type": "stream",
     "text": [
      "\n",
      "KeyboardInterrupt\n",
      "\n"
     ]
    }
   ],
   "source": [
    "# Load the last saved weights\n",
    "# model.load_weights('model_checkpoint.h5')\n",
    "\n",
    "epochs = 10  # When resuming training, set epochs to the total number of epochs you want to train, not just the additional epochs. The model.fit() method continues training for the specified number of epochs, starting from the current epoch count. Typically, 10 to 100 epochs are used. Start with e.g. 30-50.\n",
    "\n",
    "history = model.fit(\n",
    "    train_generator,\n",
    "    steps_per_epoch=train_generator.samples // train_generator.batch_size,\n",
    "    epochs=epochs,\n",
    "    validation_data=val_generator,\n",
    "    validation_steps=val_generator.samples // val_generator.batch_size,\n",
    "    class_weight=class_weights_dict,\n",
    "    callbacks=[early_stopper, checkpoint]\n",
    ")"
   ],
   "metadata": {
    "collapsed": false,
    "ExecuteTime": {
     "end_time": "2024-01-24T15:21:35.111767Z",
     "start_time": "2024-01-24T14:31:18.037635Z"
    }
   },
   "id": "d8e18494f5b0d9f6",
   "execution_count": 7
  },
  {
   "cell_type": "code",
   "outputs": [
    {
     "name": "stdout",
     "output_type": "stream",
     "text": [
      "113/113 [==============================] - 68s 597ms/step - loss: 2.0417 - accuracy: 0.2979\n",
      "Test accuracy:  0.29785454273223877\n",
      "113/113 [==============================] - 63s 539ms/step\n",
      "Classification Report\n",
      "              precision    recall  f1-score   support\n",
      "\n",
      "       angry       0.10      0.01      0.01       958\n",
      "     disgust       0.00      0.00      0.00       111\n",
      "        fear       0.17      0.02      0.04      1024\n",
      "       happy       0.25      0.90      0.39      1774\n",
      "     neutral       0.19      0.04      0.06      1233\n",
      "         sad       0.08      0.00      0.01      1247\n",
      "    surprise       0.10      0.04      0.06       831\n",
      "\n",
      "    accuracy                           0.24      7178\n",
      "   macro avg       0.13      0.14      0.08      7178\n",
      "weighted avg       0.16      0.24      0.12      7178\n"
     ]
    },
    {
     "data": {
      "text/plain": "<Figure size 1000x1000 with 2 Axes>",
      "image/png": "[encoded data removed]"
     },
     "metadata": {},
     "output_type": "display_data"
    },
    {
     "ename": "NameError",
     "evalue": "name 'history' is not defined",
     "output_type": "error",
     "traceback": [
      "\u001B[0;31m---------------------------------------------------------------------------\u001B[0m",
      "\u001B[0;31mNameError\u001B[0m                                 Traceback (most recent call last)",
      "Cell \u001B[0;32mIn[8], line 38\u001B[0m\n\u001B[1;32m     35\u001B[0m plt\u001B[38;5;241m.\u001B[39mshow()\n\u001B[1;32m     37\u001B[0m \u001B[38;5;66;03m# Plot training & validation accuracy values\u001B[39;00m\n\u001B[0;32m---> 38\u001B[0m plt\u001B[38;5;241m.\u001B[39mplot(\u001B[43mhistory\u001B[49m\u001B[38;5;241m.\u001B[39mhistory[\u001B[38;5;124m'\u001B[39m\u001B[38;5;124maccuracy\u001B[39m\u001B[38;5;124m'\u001B[39m])\n\u001B[1;32m     39\u001B[0m plt\u001B[38;5;241m.\u001B[39mplot(history\u001B[38;5;241m.\u001B[39mhistory[\u001B[38;5;124m'\u001B[39m\u001B[38;5;124mval_accuracy\u001B[39m\u001B[38;5;124m'\u001B[39m])\n\u001B[1;32m     40\u001B[0m plt\u001B[38;5;241m.\u001B[39mtitle(\u001B[38;5;124m'\u001B[39m\u001B[38;5;124mModel accuracy\u001B[39m\u001B[38;5;124m'\u001B[39m)\n",
      "\u001B[0;31mNameError\u001B[0m: name 'history' is not defined"
     ]
    }
   ],
   "source": [
    "# Evaluate the model on the test set\n",
    "test_loss, test_accuracy = model.evaluate(test_generator, steps=np.ceil(test_generator.samples / test_generator.batch_size))\n",
    "print(\"Test accuracy: \", test_accuracy)\n",
    "\n",
    "# Predictions on the test set\n",
    "test_generator.reset() # Ensuring the generator is reset to the beginning\n",
    "predictions = model.predict(test_generator, steps=np.ceil(test_generator.samples / test_generator.batch_size))\n",
    "predicted_classes = np.argmax(predictions, axis=1) # Convert predictions to class labels\n",
    "\n",
    "# Since the generator omits some samples due to rounding down in 'steps', we trim 'true_classes' to match 'predicted_classes' length\n",
    "true_classes = test_generator.classes\n",
    "true_classes = true_classes[:len(predicted_classes)]\n",
    "\n",
    "class_labels = list(test_generator.class_indices.keys())\n",
    "\n",
    "# Classification report\n",
    "print(\"Classification Report\")\n",
    "print(classification_report(true_classes, predicted_classes, target_names=class_labels, zero_division=0))\n",
    "\n",
    "# Confusion Matrix\n",
    "cm = confusion_matrix(true_classes, predicted_classes)\n",
    "plt.figure(figsize=(10, 10))\n",
    "plt.imshow(cm, interpolation='nearest', cmap=plt.cm.Blues)\n",
    "plt.title(\"Confusion Matrix\")\n",
    "plt.colorbar()\n",
    "tick_marks = np.arange(len(class_labels))\n",
    "plt.xticks(tick_marks, class_labels, rotation=45)\n",
    "plt.yticks(tick_marks, class_labels)\n",
    "plt.xlabel('Predicted Label')\n",
    "plt.ylabel('True Label')\n",
    "plt.show()"
   ],
   "metadata": {
    "collapsed": false,
    "ExecuteTime": {
     "end_time": "2024-01-24T15:25:14.122557Z",
     "start_time": "2024-01-24T15:21:40.559062Z"
    }
   },
   "id": "46691c52a9691d78",
   "execution_count": 8
  },
  {
   "cell_type": "markdown",
   "source": [
    "Conducting error analysis\n",
    "This can be done by examining misclassified examples, which can provide insights into what types of errors the model is making"
   ],
   "metadata": {
    "collapsed": false
   },
   "id": "608e3da9e8b70395"
  },
  {
   "cell_type": "code",
   "outputs": [],
   "source": [
    "# Learning Curves\n",
    "# Plot training & validation accuracy values\n",
    "plt.plot(history.history['accuracy'])\n",
    "plt.plot(history.history['val_accuracy'])\n",
    "plt.title('Model accuracy')\n",
    "plt.ylabel('Accuracy')\n",
    "plt.xlabel('Epoch')\n",
    "plt.legend(['Train', 'Test'], loc='upper left')\n",
    "plt.show()\n",
    "\n",
    "# Plot training & validation loss values\n",
    "plt.plot(history.history['loss'])\n",
    "plt.plot(history.history['val_loss'])\n",
    "plt.title('Model loss')\n",
    "plt.ylabel('Loss')\n",
    "plt.xlabel('Epoch')\n",
    "plt.legend(['Train', 'Test'], loc='upper left')\n",
    "plt.show()"
   ],
   "metadata": {
    "collapsed": false
   },
   "id": "ec7d885a4012f82b"
  },
  {
   "cell_type": "code",
   "outputs": [],
   "source": [
    "# Precsion-Recall Curve\n",
    "from sklearn.metrics import precision_recall_curve\n",
    "from sklearn.preprocessing import label_binarize\n",
    "\n",
    "# Binarize the labels for multi-class\n",
    "y_bin = label_binarize(true_classes, classes=np.arange(len(class_labels)))\n",
    "n_classes = y_bin.shape[1]\n",
    "\n",
    "# Compute precision-recall curve for each class\n",
    "precision = dict()\n",
    "recall = dict()\n",
    "for i in range(n_classes):\n",
    "    precision[i], recall[i], _ = precision_recall_curve(y_bin[:, i], predictions[:, i])\n",
    "\n",
    "# Plot the precision-recall curve\n",
    "for i in range(n_classes):\n",
    "    plt.plot(recall[i], precision[i], lw=2, label='Class {}'.format(class_labels[i]))\n",
    "\n",
    "plt.xlabel(\"Recall\")\n",
    "plt.ylabel(\"Precision\")\n",
    "plt.legend(loc=\"best\")\n",
    "plt.title(\"Precision vs. Recall curve\")\n",
    "plt.show()\n"
   ],
   "metadata": {
    "collapsed": false
   },
   "id": "b34d7770104ccad5"
  },
  {
   "cell_type": "code",
   "outputs": [],
   "source": [
    "# ROC Curve and AUC\n",
    "from sklearn.metrics import roc_curve, auc\n",
    "\n",
    "# Compute ROC curve and ROC area for each class\n",
    "fpr = dict()\n",
    "tpr = dict()\n",
    "roc_auc = dict()\n",
    "for i in range(n_classes):\n",
    "    fpr[i], tpr[i], _ = roc_curve(y_bin[:, i], predictions[:, i])\n",
    "    roc_auc[i] = auc(fpr[i], tpr[i])\n",
    "\n",
    "# Plot ROC curve\n",
    "for i in range(n_classes):\n",
    "    plt.plot(fpr[i], tpr[i], label='Class {} (area = {:.2f})'.format(class_labels[i], roc_auc[i]))\n",
    "\n",
    "plt.plot([0, 1], [0, 1], 'k--')\n",
    "plt.xlim([0.0, 1.0])\n",
    "plt.ylim([0.0, 1.05])\n",
    "plt.xlabel('False Positive Rate')\n",
    "plt.ylabel('True Positive Rate')\n",
    "plt.title('Receiver operating characteristic example')\n",
    "plt.legend(loc=\"lower right\")\n",
    "plt.show()\n"
   ],
   "metadata": {
    "collapsed": false
   },
   "id": "a7356fdebcee6e8c"
  }
 ],
 "metadata": {
  "kernelspec": {
   "display_name": "Python 3",
   "language": "python",
   "name": "python3"
  },
  "language_info": {
   "codemirror_mode": {
    "name": "ipython",
    "version": 2
   },
   "file_extension": ".py",
   "mimetype": "text/x-python",
   "name": "python",
   "nbconvert_exporter": "python",
   "pygments_lexer": "ipython2",
   "version": "2.7.6"
  }
 },
 "nbformat": 4,
 "nbformat_minor": 5
}
