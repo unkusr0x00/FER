{
 "cells": [
  {
   "cell_type": "code",
   "outputs": [],
   "source": [
    "import visualkeras\n",
    "from keras.regularizers import l2\n",
    "from tensorflow.keras.layers import Conv2D, MaxPooling2D, Dropout, Flatten, Dense, BatchNormalization, Input\n",
    "from tensorflow.keras.models import Sequential\n",
    "from PIL import ImageFont\n",
    "from collections import defaultdict"
   ],
   "metadata": {
    "collapsed": false
   },
   "id": "bdd919a6a964ac2",
   "execution_count": null
  },
  {
   "cell_type": "markdown",
   "source": [
    "# Base Model"
   ],
   "metadata": {
    "collapsed": false
   },
   "id": "539d8ed47ca0e7a7"
  },
  {
   "cell_type": "code",
   "execution_count": null,
   "id": "initial_id",
   "metadata": {
    "collapsed": true
   },
   "outputs": [],
   "source": [
    "input_shape = (128, 128, 1)\n",
    "l2_reg = 0.001  # Regularization strength\n",
    "dropout = [0.15, 0,4]\n",
    "n_filter = [128, 64, 32, 128]\n",
    "\n",
    "model = Sequential([\n",
    "    # First Conv Block\n",
    "    Conv2D(n_filter[0], (3, 3), padding='same', activation='relu', input_shape=input_shape, kernel_regularizer=l2(l2_reg)),\n",
    "    BatchNormalization(), # Batch normalization normalizes the output of a previous activation layer by subtracting the batch mean and dividing by the batch standard deviation\n",
    "    MaxPooling2D(pool_size=(2, 2)), # Max pooling reduces computation by reducing the dimensionality of the feature maps\n",
    "    Dropout(dropout[0]), # Dropout to prevent overfitting\n",
    "    # Second Conv Block\n",
    "    Conv2D(n_filter[1], (3, 3), padding='same', activation='relu', kernel_regularizer=l2(l2_reg)),\n",
    "    BatchNormalization(),\n",
    "    MaxPooling2D(pool_size=(2, 2)),\n",
    "    Dropout(dropout[0]),\n",
    "    # Third Conv Block\n",
    "    Conv2D(n_filter[2], (3, 3), padding='same', activation='relu', kernel_regularizer=l2(l2_reg)),\n",
    "    BatchNormalization(),\n",
    "    MaxPooling2D(pool_size=(2, 2)),\n",
    "    Dropout(dropout[0]),\n",
    "    # Flatten and Dense Layers\n",
    "    Flatten(),\n",
    "    Dense(n_filter[3], activation='relu', kernel_regularizer=l2(l2_reg)),\n",
    "    BatchNormalization(),\n",
    "    Dropout(dropout[1]),\n",
    "    Dense(7, activation='softmax', kernel_regularizer=l2(l2_reg))  # 7 emotions\n",
    "])"
   ]
  },
  {
   "cell_type": "markdown",
   "source": [
    "# Landmark Model"
   ],
   "metadata": {
    "collapsed": false
   },
   "id": "18c102f97b97110c"
  },
  {
   "cell_type": "code",
   "outputs": [],
   "source": [
    "input_shape = (128, 128, 6)\n",
    "l2_reg = 0.001  # Regularization strength\n",
    "dropout = [0.25, 0.4]\n",
    "n_filters = [128, 64, 32, 128]\n",
    "\n",
    "model = Sequential([\n",
    "    Input(shape=input_shape),\n",
    "    # First Conv Block\n",
    "    Conv2D(n_filters[0], (3, 3), padding='same', activation='relu', kernel_regularizer=l2(l2_reg)), \n",
    "    BatchNormalization(),\n",
    "    MaxPooling2D(pool_size=(2, 2)),\n",
    "    Dropout(dropout[0]),\n",
    "    # Second Conv Block\n",
    "    Conv2D(n_filters[1], (3, 3), padding='same', activation='relu', kernel_regularizer=l2(l2_reg)),\n",
    "    BatchNormalization(),\n",
    "    MaxPooling2D(pool_size=(2, 2)),\n",
    "    Dropout(dropout[0]),\n",
    "    # Third Conv Block\n",
    "    Conv2D(n_filters[2], (3, 3), padding='same', activation='relu', kernel_regularizer=l2(l2_reg)),\n",
    "    BatchNormalization(),\n",
    "    MaxPooling2D(pool_size=(2, 2)),\n",
    "    Dropout(dropout[0]),\n",
    "    # Fourth Conv Block\n",
    "    Conv2D(n_filters[1], (3, 3), padding='same', activation='relu', kernel_regularizer=l2(l2_reg)),\n",
    "    BatchNormalization(),\n",
    "    MaxPooling2D(pool_size=(2, 2)),\n",
    "    Dropout(dropout[0]),\n",
    "    # Flatten and Dense Layers\n",
    "    Flatten(),\n",
    "    Dense(n_filters[3], activation='relu', kernel_regularizer=l2(l2_reg)),\n",
    "    BatchNormalization(),\n",
    "    Dropout(dropout[1]),\n",
    "    Dense(7, activation='softmax', kernel_regularizer=l2(l2_reg))  # 7 classes for the output\n",
    "])"
   ],
   "metadata": {
    "collapsed": false
   },
   "id": "b669dd6df438db15",
   "execution_count": null
  },
  {
   "cell_type": "code",
   "outputs": [],
   "source": [
    "color_map = defaultdict(dict)\n",
    "color_map[Dense]['fill'] = 'orange'\n",
    "# visualkeras.layered_view(model).show() # display using your system viewer\n",
    "# visualkeras.layered_view(model, to_file='output.png') # write to disk\n",
    "font = ImageFont.truetype(\"00 documents/arial.ttf\", 16)\n",
    "visualkeras.layered_view(model, legend=True, font=font, color_map=color_map, to_file='output.png').show() # write and show\n",
    "\n",
    "visualkeras.layered_view(model)"
   ],
   "metadata": {
    "collapsed": false
   },
   "id": "fb366d04b6f989e6",
   "execution_count": null
  }
 ],
 "metadata": {
  "kernelspec": {
   "display_name": "Python 3",
   "language": "python",
   "name": "python3"
  },
  "language_info": {
   "codemirror_mode": {
    "name": "ipython",
    "version": 2
   },
   "file_extension": ".py",
   "mimetype": "text/x-python",
   "name": "python",
   "nbconvert_exporter": "python",
   "pygments_lexer": "ipython2",
   "version": "2.7.6"
  }
 },
 "nbformat": 4,
 "nbformat_minor": 5
}
